{
 "metadata": {
  "name": "",
  "signature": "sha256:0d4f2486d24afe3a01b6b30599dabffb5bf2cfa7b4093afd2ddddd07e9424679"
 },
 "nbformat": 3,
 "nbformat_minor": 0,
 "worksheets": []
}