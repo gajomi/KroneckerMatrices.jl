{
 "metadata": {
  "language": "Julia",
  "name": "",
  "signature": "sha256:b928f6cd9952bbe3d9d9a898400520eb243a4b1e15b516f3f34398b0f73b74a4"
 },
 "nbformat": 3,
 "nbformat_minor": 0,
 "worksheets": [
  {
   "cells": [
    {
     "cell_type": "markdown",
     "metadata": {},
     "source": [
      "This notebook documents the use of different sorts of functionality available in the KronMat.jl package with possible applications in a number of disciplines, including graph theory, dynamical systems and molecular genetics. Consider a set sequences consisting of $N$ items, each of which can take on a value in some set alphabet $\\{S\\}$. For example if $S = \\{0,1\\}$ there will be a bijection between this set and the total number of distinct binary number with $N$ bits. Imagine that these sequence encode an address in a $N$ dimensional space where, conveniently, each bit tells you whether the adress is in the bottom $(0)$ or top $(1)$ half of one of the cardinal dimensions of this space. Now suppose that we endow this space with some topological information: two points in this space are connected iff there corresponding sequences differ by exactly one bit. From this information we can build a graph, which can be represented by an adjacency matrix. There are actually many different adjacency matrices that correspond to the same graph, since the particualr representation depens on how we order the nodes (the distinct sequences). However, if we choose an ordering scheme wherin we .... the adjacency matrix can be represented by the kronecker sum. For example"
     ]
    },
    {
     "cell_type": "code",
     "collapsed": false,
     "input": [
      "N = 10\n",
      "H_2 = [[0 1]; [1 0]]\n",
      "H_10 = KronIterSumMat(H_2,N-1)"
     ],
     "language": "python",
     "metadata": {},
     "outputs": []
    },
    {
     "cell_type": "markdown",
     "metadata": {},
     "source": [
      "Interesting idea: the diameter of graph in terms of its degeneracies?\n",
      "\n",
      "Anyway, we continue the discussion. Suppose that there is some rate at which a sequence cahnges it bit. The rate is small enough that only one bit changes at a time, but fast enough that these cahnges do happen. when a bit cahnges blaha blah blah coccupanceny. We need the lapacian of the graph."
     ]
    },
    {
     "cell_type": "code",
     "collapsed": false,
     "input": [
      "#write the code for graph laplacian"
     ],
     "language": "python",
     "metadata": {},
     "outputs": []
    },
    {
     "cell_type": "markdown",
     "metadata": {},
     "source": [
      "now we say something about the eigenvalues of laplacian. there degernicaies and such? this could be cool. that will satisfy algebraicists. BUt the reall meat of the discussion is what they mean for the dynamics. Basically they represent a coleciton of relaxation timesscales. If the system is in such and such a state, the relaxation should occur in this and that way. and basically it comes down to the number of on and off elements, with everything else following from permutation sysmmetry. "
     ]
    },
    {
     "cell_type": "code",
     "collapsed": false,
     "input": [
      "#code to show that we can calcualte a huge numebr of eigenvalues quickly"
     ],
     "language": "python",
     "metadata": {},
     "outputs": []
    },
    {
     "cell_type": "markdown",
     "metadata": {},
     "source": [
      "some bullshit"
     ]
    },
    {
     "cell_type": "code",
     "collapsed": false,
     "input": [
      "#code to show we can calcualte transition probabilties to high accuracy quickly"
     ],
     "language": "python",
     "metadata": {},
     "outputs": []
    },
    {
     "cell_type": "markdown",
     "metadata": {},
     "source": [
      "Now we go to biology . 0/1 is not so interesting. what about agtc? we look up transition probabilities. Realize they are not hetergenous over sites. define the KronSumMat based on sitet specific transition probabilities. In this case it makes sense to skip directly to generalization of \"Laplacian\""
     ]
    },
    {
     "cell_type": "code",
     "collapsed": false,
     "input": [],
     "language": "python",
     "metadata": {},
     "outputs": []
    }
   ],
   "metadata": {}
  }
 ]
}