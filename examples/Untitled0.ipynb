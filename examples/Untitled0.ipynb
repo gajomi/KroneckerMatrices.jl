{
 "metadata": {
  "language": "Julia",
  "name": "",
  "signature": "sha256:00711bb68c70dae501e597e46b19e88a5a393b8302681e1b38b13048459c78d0"
 },
 "nbformat": 3,
 "nbformat_minor": 0,
 "worksheets": [
  {
   "cells": [
    {
     "cell_type": "code",
     "collapsed": false,
     "input": [
      "Pkg.test(\"KroneckerMatrices\")"
     ],
     "language": "python",
     "metadata": {},
     "outputs": [
      {
       "output_type": "stream",
       "stream": "stderr",
       "text": [
        "INFO: Testing KroneckerMatrices\n"
       ]
      },
      {
       "output_type": "stream",
       "stream": "stderr",
       "text": [
        "INFO: KroneckerMatrices tests passed\n"
       ]
      },
      {
       "output_type": "stream",
       "stream": "stderr",
       "text": [
        "INFO: No packages to install, update or remove\n"
       ]
      }
     ],
     "prompt_number": 7
    },
    {
     "cell_type": "code",
     "collapsed": false,
     "input": [
      "using KroneckerMatrices"
     ],
     "language": "python",
     "metadata": {},
     "outputs": [],
     "prompt_number": 8
    },
    {
     "cell_type": "code",
     "collapsed": false,
     "input": [
      "A = rand(2,2)\n",
      "B = rand(3,3)"
     ],
     "language": "python",
     "metadata": {},
     "outputs": [
      {
       "metadata": {},
       "output_type": "pyout",
       "prompt_number": 2,
       "text": [
        "3x3 Array{Float64,2}:\n",
        " 0.39313    0.62397    0.28547 \n",
        " 0.0550551  0.0207217  0.965785\n",
        " 0.563321   0.60081    0.302576"
       ]
      }
     ],
     "prompt_number": 2
    },
    {
     "cell_type": "code",
     "collapsed": false,
     "input": [
      "C = kronproduct(A,B)"
     ],
     "language": "python",
     "metadata": {},
     "outputs": [
      {
       "metadata": {},
       "output_type": "pyout",
       "prompt_number": 3,
       "text": [
        "6x6 Array{Float64,2}:\n",
        " 0.18213    0.289074    0.132253  0.101337   0.160841    0.0735859\n",
        " 0.0255061  0.00959997  0.447431  0.0141916  0.00534143  0.248951 \n",
        " 0.260977   0.278345    0.140178  0.145208   0.154871    0.0779952\n",
        " 0.186279   0.295659    0.135266  0.253497   0.402347    0.184076 \n",
        " 0.026087   0.00981864  0.457622  0.0355005  0.0133617   0.622755 \n",
        " 0.266921   0.284685    0.143371  0.36324    0.387413    0.195106 "
       ]
      }
     ],
     "prompt_number": 3
    },
    {
     "cell_type": "code",
     "collapsed": false,
     "input": [
      "D = KroneckerProduct(A,B)"
     ],
     "language": "python",
     "metadata": {},
     "outputs": [
      {
       "metadata": {},
       "output_type": "pyout",
       "prompt_number": 4,
       "text": [
        "6x6 KroneckerProduct{Float64}:\n",
        " 0.18213    0.289074    0.132253  0.101337   0.160841    0.0735859\n",
        " 0.0255061  0.00959997  0.447431  0.0141916  0.00534143  0.248951 \n",
        " 0.260977   0.278345    0.140178  0.145208   0.154871    0.0779952\n",
        " 0.186279   0.295659    0.135266  0.253497   0.402347    0.184076 \n",
        " 0.026087   0.00981864  0.457622  0.0355005  0.0133617   0.622755 \n",
        " 0.266921   0.284685    0.143371  0.36324    0.387413    0.195106 "
       ]
      }
     ],
     "prompt_number": 4
    },
    {
     "cell_type": "code",
     "collapsed": false,
     "input": [
      "abstract KronVecOrMat <: AbstractVecOrMat"
     ],
     "language": "python",
     "metadata": {},
     "outputs": [
      {
       "ename": "LoadError",
       "evalue": "invalid subtyping in definition of KronVecOrMat\nwhile loading In[11], in expression starting on line 1",
       "output_type": "pyerr",
       "traceback": [
        "invalid subtyping in definition of KronVecOrMat\nwhile loading In[11], in expression starting on line 1",
        ""
       ]
      }
     ],
     "prompt_number": 11
    },
    {
     "cell_type": "code",
     "collapsed": false,
     "input": [
      "AbstractVecOrMat"
     ],
     "language": "python",
     "metadata": {},
     "outputs": [
      {
       "metadata": {},
       "output_type": "pyout",
       "prompt_number": 10,
       "text": [
        "Union(AbstractArray{T,2},AbstractArray{T,1})"
       ]
      }
     ],
     "prompt_number": 10
    },
    {
     "cell_type": "code",
     "collapsed": false,
     "input": [
      "type Taco{T} <:KroneckerMatrix{T}\n",
      "    terms::Vector{}\n",
      "end"
     ],
     "language": "python",
     "metadata": {},
     "outputs": []
    },
    {
     "cell_type": "code",
     "collapsed": false,
     "input": [
      "eigvals(C)"
     ],
     "language": "python",
     "metadata": {},
     "outputs": [
      {
       "metadata": {},
       "output_type": "pyout",
       "prompt_number": 8,
       "text": [
        "6-element Array{Any,1}:\n",
        "  0.476741 \n",
        "  1.33759  \n",
        "  0.0196893\n",
        "  0.0552421\n",
        " -0.191532 \n",
        " -0.537381 "
       ]
      }
     ],
     "prompt_number": 8
    },
    {
     "cell_type": "code",
     "collapsed": false,
     "input": [
      "eigvals(D)"
     ],
     "language": "python",
     "metadata": {},
     "outputs": [
      {
       "metadata": {},
       "output_type": "pyout",
       "prompt_number": 40,
       "text": [
        "6-element Array{Float64,1}:\n",
        "  1.33759  \n",
        "  0.476741 \n",
        " -0.537381 \n",
        " -0.191532 \n",
        "  0.0196893\n",
        "  0.0552421"
       ]
      }
     ],
     "prompt_number": 40
    },
    {
     "cell_type": "code",
     "collapsed": false,
     "input": [
      "vec(kron(mat(\u03bbA),mat(\u03bbB)))"
     ],
     "language": "python",
     "metadata": {},
     "outputs": [
      {
       "metadata": {},
       "output_type": "pyout",
       "prompt_number": 41,
       "text": [
        "6-element Array{Float64,1}:\n",
        "  0.476741 \n",
        "  0.0196893\n",
        " -0.191532 \n",
        "  1.33759  \n",
        "  0.0552421\n",
        " -0.537381 "
       ]
      }
     ],
     "prompt_number": 41
    },
    {
     "cell_type": "code",
     "collapsed": false,
     "input": [
      "\u03bbA,\u03bbB =  [eigvals(A)],[eigvals(B)]"
     ],
     "language": "python",
     "metadata": {},
     "outputs": [
      {
       "metadata": {},
       "output_type": "pyout",
       "prompt_number": 14,
       "text": [
        "([0.329726,0.925109],[1.44587,0.0597141,-0.580884])"
       ]
      }
     ],
     "prompt_number": 14
    },
    {
     "cell_type": "code",
     "collapsed": false,
     "input": [
      "methods(reverse)"
     ],
     "language": "python",
     "metadata": {},
     "outputs": [
      {
       "html": [
        "16 methods for generic function <b>reverse</b>:<ul><li> reverse(t::<b>(Any...,)</b>) at <a href=\"https://github.com/JuliaLang/julia/tree/cb9bcae93a32b42cec02585c387396ff11836aed/base/tuple.jl#L113\" target=\"_blank\">tuple.jl:113</a><li> reverse(r::<b>OrdinalRange{T,S}</b>) at <a href=\"https://github.com/JuliaLang/julia/tree/cb9bcae93a32b42cec02585c387396ff11836aed/base/range.jl#L525\" target=\"_blank\">range.jl:525</a><li> reverse(r::<b>FloatRange{T<:FloatingPoint}</b>) at <a href=\"https://github.com/JuliaLang/julia/tree/cb9bcae93a32b42cec02585c387396ff11836aed/base/range.jl#L526\" target=\"_blank\">range.jl:526</a><li> reverse(v::<b>BitArray{1}</b>) at <a href=\"https://github.com/JuliaLang/julia/tree/cb9bcae93a32b42cec02585c387396ff11836aed/base/bitarray.jl#L1184\" target=\"_blank\">bitarray.jl:1184</a><li> reverse(v::<b>Union(SubArray{T,1,A<:DenseArray{T,N},I<:(Union(Range{Int64},Int64)...,)},DenseArray{T,1})</b>) at <a href=\"https://github.com/JuliaLang/julia/tree/cb9bcae93a32b42cec02585c387396ff11836aed/base/array.jl#L985\" target=\"_blank\">array.jl:985</a><li> reverse(v::<b>Union(SubArray{T,1,A<:DenseArray{T,N},I<:(Union(Range{Int64},Int64)...,)},DenseArray{T,1})</b>,s) at <a href=\"https://github.com/JuliaLang/julia/tree/cb9bcae93a32b42cec02585c387396ff11836aed/base/array.jl#L986\" target=\"_blank\">array.jl:986</a><li> reverse(v::<b>Union(SubArray{T,1,A<:DenseArray{T,N},I<:(Union(Range{Int64},Int64)...,)},DenseArray{T,1})</b>,s,n) at <a href=\"https://github.com/JuliaLang/julia/tree/cb9bcae93a32b42cec02585c387396ff11836aed/base/array.jl#L986\" target=\"_blank\">array.jl:986</a><li> reverse(A::<b>AbstractArray{T,1}</b>) at <a href=\"https://github.com/JuliaLang/julia/tree/cb9bcae93a32b42cec02585c387396ff11836aed/base/array.jl#L972\" target=\"_blank\">array.jl:972</a><li> reverse(A::<b>AbstractArray{T,1}</b>,s) at <a href=\"https://github.com/JuliaLang/julia/tree/cb9bcae93a32b42cec02585c387396ff11836aed/base/array.jl#L972\" target=\"_blank\">array.jl:972</a><li> reverse(A::<b>AbstractArray{T,1}</b>,s,n) at <a href=\"https://github.com/JuliaLang/julia/tree/cb9bcae93a32b42cec02585c387396ff11836aed/base/array.jl#L972\" target=\"_blank\">array.jl:972</a><li> reverse(s::<b>ASCIIString</b>) at <a href=\"https://github.com/JuliaLang/julia/tree/cb9bcae93a32b42cec02585c387396ff11836aed/base/ascii.jl#L89\" target=\"_blank\">ascii.jl:89</a><li> reverse(s::<b>UTF8String</b>) at <a href=\"https://github.com/JuliaLang/julia/tree/cb9bcae93a32b42cec02585c387396ff11836aed/base/utf8.jl#L144\" target=\"_blank\">utf8.jl:144</a><li> reverse(s::<b>UTF32String</b>) at <a href=\"https://github.com/JuliaLang/julia/tree/cb9bcae93a32b42cec02585c387396ff11836aed/base/utf32.jl#L65\" target=\"_blank\">utf32.jl:65</a><li> reverse(s::<b>RevString{T<:String}</b>) at <a href=\"https://github.com/JuliaLang/julia/tree/cb9bcae93a32b42cec02585c387396ff11836aed/base/string.jl#L748\" target=\"_blank\">string.jl:748</a><li> reverse(s::<b>String</b>) at <a href=\"https://github.com/JuliaLang/julia/tree/cb9bcae93a32b42cec02585c387396ff11836aed/base/string.jl#L747\" target=\"_blank\">string.jl:747</a><li> reverse<i>{T}</i>(l::<b>LinkedList{T}</b>) at <a href=\"https://github.com/JuliaLang/DataStructures.jl/tree/d5308421daea7370a60d3e2718e1b3fc5fe47f50/src/list.jl#L87\" target=\"_blank\">/Users/gajomi/.julia/DataStructures/src/list.jl:87</a></ul>"
       ],
       "metadata": {},
       "output_type": "pyout",
       "prompt_number": 6,
       "text": [
        "# 16 methods for generic function \"reverse\":\n",
        "reverse(t::(Any...,)) at tuple.jl:113\n",
        "reverse(r::OrdinalRange{T,S}) at range.jl:525\n",
        "reverse(r::FloatRange{T<:FloatingPoint}) at range.jl:526\n",
        "reverse(v::BitArray{1}) at bitarray.jl:1184\n",
        "reverse(v::Union(SubArray{T,1,A<:DenseArray{T,N},I<:(Union(Range{Int64},Int64)...,)},DenseArray{T,1})) at array.jl:985\n",
        "reverse(v::Union(SubArray{T,1,A<:DenseArray{T,N},I<:(Union(Range{Int64},Int64)...,)},DenseArray{T,1}),s) at array.jl:986\n",
        "reverse(v::Union(SubArray{T,1,A<:DenseArray{T,N},I<:(Union(Range{Int64},Int64)...,)},DenseArray{T,1}),s,n) at array.jl:986\n",
        "reverse(A::AbstractArray{T,1}) at array.jl:972\n",
        "reverse(A::AbstractArray{T,1},s) at array.jl:972\n",
        "reverse(A::AbstractArray{T,1},s,n) at array.jl:972\n",
        "reverse(s::ASCIIString) at ascii.jl:89\n",
        "reverse(s::UTF8String) at utf8.jl:144\n",
        "reverse(s::UTF32String) at utf32.jl:65\n",
        "reverse(s::RevString{T<:String}) at string.jl:748\n",
        "reverse(s::String) at string.jl:747\n",
        "reverse{T}(l::LinkedList{T}) at /Users/gajomi/.julia/DataStructures/src/list.jl:87"
       ]
      }
     ],
     "prompt_number": 6
    },
    {
     "cell_type": "code",
     "collapsed": false,
     "input": [
      "taco[length(taco):-1:1]"
     ],
     "language": "python",
     "metadata": {},
     "outputs": [
      {
       "metadata": {},
       "output_type": "pyout",
       "prompt_number": 7,
       "text": [
        "4-element Array{Int64,1}:\n",
        " 4\n",
        " 3\n",
        " 2\n",
        " 1"
       ]
      }
     ],
     "prompt_number": 7
    },
    {
     "cell_type": "code",
     "collapsed": false,
     "input": [
      "mat(a::Vector) = reshape(a,length(a),1)"
     ],
     "language": "python",
     "metadata": {},
     "outputs": [
      {
       "metadata": {},
       "output_type": "pyout",
       "prompt_number": 37,
       "text": [
        "mat (generic function with 1 method)"
       ]
      }
     ],
     "prompt_number": 37
    },
    {
     "cell_type": "code",
     "collapsed": false,
     "input": [
      "a = [1,2,3,4]\n",
      "b = [.1,1.,10]\n",
      "c = [1,1im]\n",
      "d = kron(a,b,c)"
     ],
     "language": "python",
     "metadata": {},
     "outputs": [
      {
       "metadata": {},
       "output_type": "pyout",
       "prompt_number": 24,
       "text": [
        "24-element Array{Complex{Float64},1}:\n",
        "  0.1+0.0im \n",
        "  0.0+0.1im \n",
        "  1.0+0.0im \n",
        "  0.0+1.0im \n",
        " 10.0+0.0im \n",
        "  0.0+10.0im\n",
        "  0.2+0.0im \n",
        "  0.0+0.2im \n",
        "  2.0+0.0im \n",
        "  0.0+2.0im \n",
        " 20.0+0.0im \n",
        "  0.0+20.0im\n",
        "  0.3+0.0im \n",
        "  0.0+0.3im \n",
        "  3.0+0.0im \n",
        "  0.0+3.0im \n",
        " 30.0+0.0im \n",
        "  0.0+30.0im\n",
        "  0.4+0.0im \n",
        "  0.0+0.4im \n",
        "  4.0+0.0im \n",
        "  0.0+4.0im \n",
        " 40.0+0.0im \n",
        "  0.0+40.0im"
       ]
      }
     ],
     "prompt_number": 24
    },
    {
     "cell_type": "code",
     "collapsed": false,
     "input": [
      "widths = [2,3,4]"
     ],
     "language": "python",
     "metadata": {},
     "outputs": [
      {
       "metadata": {},
       "output_type": "pyout",
       "prompt_number": 25,
       "text": [
        "3-element Array{Int64,1}:\n",
        " 2\n",
        " 3\n",
        " 4"
       ]
      }
     ],
     "prompt_number": 25
    },
    {
     "cell_type": "code",
     "collapsed": false,
     "input": [
      "f(i) = reverse([(mod(div(i-1,u),w)+1)::Int64 for (u,w) in zip(cumprod([1, widths...]),widths)])"
     ],
     "language": "python",
     "metadata": {},
     "outputs": [
      {
       "metadata": {},
       "output_type": "pyout",
       "prompt_number": 26,
       "text": [
        "f (generic function with 1 method)"
       ]
      }
     ],
     "prompt_number": 26
    },
    {
     "cell_type": "code",
     "collapsed": false,
     "input": [
      "[reverse(f(i)) for i in 1:24]"
     ],
     "language": "python",
     "metadata": {},
     "outputs": [
      {
       "metadata": {},
       "output_type": "pyout",
       "prompt_number": 28,
       "text": [
        "24-element Array{Array{Int64,1},1}:\n",
        " [1,1,1]\n",
        " [1,1,2]\n",
        " [1,2,1]\n",
        " [1,2,2]\n",
        " [1,3,1]\n",
        " [1,3,2]\n",
        " [2,1,1]\n",
        " [2,1,2]\n",
        " [2,2,1]\n",
        " [2,2,2]\n",
        " [2,3,1]\n",
        " [2,3,2]\n",
        " [3,1,1]\n",
        " [3,1,2]\n",
        " [3,2,1]\n",
        " [3,2,2]\n",
        " [3,3,1]\n",
        " [3,3,2]\n",
        " [4,1,1]\n",
        " [4,1,2]\n",
        " [4,2,1]\n",
        " [4,2,2]\n",
        " [4,3,1]\n",
        " [4,3,2]"
       ]
      }
     ],
     "prompt_number": 28
    },
    {
     "cell_type": "code",
     "collapsed": false,
     "input": [
      "methods(kron)"
     ],
     "language": "python",
     "metadata": {},
     "outputs": [
      {
       "html": [
        "14 methods for generic function <b>kron</b>:<ul><li> kron<i>{T,S}</i>(a::<b>Array{T,2}</b>,b::<b>Array{S,2}</b>) at <a href=\"https://github.com/JuliaLang/julia/tree/cb9bcae93a32b42cec02585c387396ff11836aed/base/linalg/dense.jl#L138\" target=\"_blank\">linalg/dense.jl:138</a><li> kron(a::<b>Number</b>,b::<b>Union(Array{T,2},Array{T,1},Number)</b>) at <a href=\"https://github.com/JuliaLang/julia/tree/cb9bcae93a32b42cec02585c387396ff11836aed/base/linalg/dense.jl#L150\" target=\"_blank\">linalg/dense.jl:150</a><li> kron(a::<b>Union(Array{T,2},Array{T,1})</b>,b::<b>Number</b>) at <a href=\"https://github.com/JuliaLang/julia/tree/cb9bcae93a32b42cec02585c387396ff11836aed/base/linalg/dense.jl#L151\" target=\"_blank\">linalg/dense.jl:151</a><li> kron(a::<b>Array{T,1}</b>,b::<b>Array{T,1}</b>) at <a href=\"https://github.com/JuliaLang/julia/tree/cb9bcae93a32b42cec02585c387396ff11836aed/base/linalg/dense.jl#L152\" target=\"_blank\">linalg/dense.jl:152</a><li> kron(a::<b>Array{T,2}</b>,b::<b>Array{T,1}</b>) at <a href=\"https://github.com/JuliaLang/julia/tree/cb9bcae93a32b42cec02585c387396ff11836aed/base/linalg/dense.jl#L153\" target=\"_blank\">linalg/dense.jl:153</a><li> kron(a::<b>Array{T,1}</b>,b::<b>Array{T,2}</b>) at <a href=\"https://github.com/JuliaLang/julia/tree/cb9bcae93a32b42cec02585c387396ff11836aed/base/linalg/dense.jl#L154\" target=\"_blank\">linalg/dense.jl:154</a><li> kron(a::<b>BitArray{1}</b>,b::<b>BitArray{1}</b>) at <a href=\"https://github.com/JuliaLang/julia/tree/cb9bcae93a32b42cec02585c387396ff11836aed/base/linalg/bitarray.jl#L105\" target=\"_blank\">linalg/bitarray.jl:105</a><li> kron(a::<b>BitArray{2}</b>,b::<b>BitArray{2}</b>) at <a href=\"https://github.com/JuliaLang/julia/tree/cb9bcae93a32b42cec02585c387396ff11836aed/base/linalg/bitarray.jl#L117\" target=\"_blank\">linalg/bitarray.jl:117</a><li> kron<i>{Tv,Ti}</i>(a::<b>SparseMatrixCSC{Tv,Ti}</b>,b::<b>SparseMatrixCSC{Tv,Ti}</b>) at <a href=\"https://github.com/JuliaLang/julia/tree/cb9bcae93a32b42cec02585c387396ff11836aed/base/linalg/sparse.jl#L519\" target=\"_blank\">linalg/sparse.jl:519</a><li> kron<i>{Tv1,Ti1,Tv2,Ti2}</i>(A::<b>SparseMatrixCSC{Tv1,Ti1}</b>,B::<b>SparseMatrixCSC{Tv2,Ti2}</b>) at <a href=\"https://github.com/JuliaLang/julia/tree/cb9bcae93a32b42cec02585c387396ff11836aed/base/linalg/sparse.jl#L574\" target=\"_blank\">linalg/sparse.jl:574</a><li> kron(A::<b>SparseMatrixCSC{Tv,Ti<:Integer}</b>,B::<b>Union(Array{T,2},Array{T,1})</b>) at <a href=\"https://github.com/JuliaLang/julia/tree/cb9bcae93a32b42cec02585c387396ff11836aed/base/linalg/sparse.jl#L581\" target=\"_blank\">linalg/sparse.jl:581</a><li> kron(A::<b>Union(Array{T,2},Array{T,1})</b>,B::<b>SparseMatrixCSC{Tv,Ti<:Integer}</b>) at <a href=\"https://github.com/JuliaLang/julia/tree/cb9bcae93a32b42cec02585c387396ff11836aed/base/linalg/sparse.jl#L582\" target=\"_blank\">linalg/sparse.jl:582</a><li> kron(a,b,c) at <a href=\"https://github.com/JuliaLang/julia/tree/cb9bcae93a32b42cec02585c387396ff11836aed/base/operators.jl#L82\" target=\"_blank\">operators.jl:82</a><li> kron(a,b,c,xs...) at <a href=\"https://github.com/JuliaLang/julia/tree/cb9bcae93a32b42cec02585c387396ff11836aed/base/operators.jl#L83\" target=\"_blank\">operators.jl:83</a></ul>"
       ],
       "metadata": {},
       "output_type": "pyout",
       "prompt_number": 31,
       "text": [
        "# 14 methods for generic function \"kron\":\n",
        "kron{T,S}(a::Array{T,2},b::Array{S,2}) at linalg/dense.jl:138\n",
        "kron(a::Number,b::Union(Array{T,2},Array{T,1},Number)) at linalg/dense.jl:150\n",
        "kron(a::Union(Array{T,2},Array{T,1}),b::Number) at linalg/dense.jl:151\n",
        "kron(a::Array{T,1},b::Array{T,1}) at linalg/dense.jl:152\n",
        "kron(a::Array{T,2},b::Array{T,1}) at linalg/dense.jl:153\n",
        "kron(a::Array{T,1},b::Array{T,2}) at linalg/dense.jl:154\n",
        "kron(a::BitArray{1},b::BitArray{1}) at linalg/bitarray.jl:105\n",
        "kron(a::BitArray{2},b::BitArray{2}) at linalg/bitarray.jl:117\n",
        "kron{Tv,Ti}(a::SparseMatrixCSC{Tv,Ti},b::SparseMatrixCSC{Tv,Ti}) at linalg/sparse.jl:519\n",
        "kron{Tv1,Ti1,Tv2,Ti2}(A::SparseMatrixCSC{Tv1,Ti1},B::SparseMatrixCSC{Tv2,Ti2}) at linalg/sparse.jl:574\n",
        "kron(A::SparseMatrixCSC{Tv,Ti<:Integer},B::Union(Array{T,2},Array{T,1})) at linalg/sparse.jl:581\n",
        "kron(A::Union(Array{T,2},Array{T,1}),B::SparseMatrixCSC{Tv,Ti<:Integer}) at linalg/sparse.jl:582\n",
        "kron(a,b,c) at operators.jl:82\n",
        "kron(a,b,c,xs...) at operators.jl:83"
       ]
      }
     ],
     "prompt_number": 31
    },
    {
     "cell_type": "code",
     "collapsed": false,
     "input": [
      "(4*10^6)*(10^-2.)*(.05)"
     ],
     "language": "python",
     "metadata": {},
     "outputs": [
      {
       "metadata": {},
       "output_type": "pyout",
       "prompt_number": 49,
       "text": [
        "2000.0"
       ]
      }
     ],
     "prompt_number": 49
    },
    {
     "cell_type": "code",
     "collapsed": false,
     "input": [],
     "language": "python",
     "metadata": {},
     "outputs": []
    }
   ],
   "metadata": {}
  }
 ]
}